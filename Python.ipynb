{
  "nbformat": 4,
  "nbformat_minor": 0,
  "metadata": {
    "colab": {
      "name": "Python.ipynb",
      "version": "0.3.2",
      "provenance": [],
      "collapsed_sections": [
        "gZwybfrC8TDh",
        "fz87iE9Q_yFP",
        "yRykXJsGIOdQ"
      ],
      "include_colab_link": true
    },
    "kernelspec": {
      "name": "python3",
      "display_name": "Python 3"
    }
  },
  "cells": [
    {
      "cell_type": "markdown",
      "metadata": {
        "id": "view-in-github",
        "colab_type": "text"
      },
      "source": [
        "<a href=\"https://colab.research.google.com/github/marianeferroni/python/blob/master/Python.ipynb\" target=\"_parent\"><img src=\"https://colab.research.google.com/assets/colab-badge.svg\" alt=\"Open In Colab\"/></a>"
      ]
    },
    {
      "metadata": {
        "id": "BR-A7ASBXdpq",
        "colab_type": "text"
      },
      "cell_type": "markdown",
      "source": [
        "# Lista de Exercícios do Django Girls\n",
        "\n",
        "https://tutorial.djangogirls.org/pt/python_introduction/"
      ]
    },
    {
      "metadata": {
        "id": "gZwybfrC8TDh",
        "colab_type": "text"
      },
      "cell_type": "markdown",
      "source": [
        "# Exercício 1 - Hello World\n",
        "Olar!"
      ]
    },
    {
      "metadata": {
        "id": "mI4ZbUlg8I1e",
        "colab_type": "code",
        "outputId": "f4da799a-cc10-4a20-8ec9-58709dbe9849",
        "colab": {
          "base_uri": "https://localhost:8080/",
          "height": 34
        }
      },
      "cell_type": "code",
      "source": [
        "print('Olar')"
      ],
      "execution_count": 0,
      "outputs": [
        {
          "output_type": "stream",
          "text": [
            "Olar\n"
          ],
          "name": "stdout"
        }
      ]
    },
    {
      "metadata": {
        "id": "fz87iE9Q_yFP",
        "colab_type": "text"
      },
      "cell_type": "markdown",
      "source": [
        "#Exercício 2 - Operações Matemáticas\n",
        "\n",
        "Imprimir resultado de: 2+2;\n",
        "<br>\n",
        "Imprimir resultado de: 2-4;\n",
        "<br>\n",
        "Imprimir resultado de: 1*9;\n",
        "<br>\n",
        "Imprimir resultado de: 4/2;\n",
        "<br>\n",
        "Imprimir resultado 2ˆ3 (cálculo exponencial, 2 elevado a 3);"
      ]
    },
    {
      "metadata": {
        "id": "po5yKXMy__XO",
        "colab_type": "code",
        "outputId": "f2a7e529-7c5d-4a99-d97e-a622b7354b9b",
        "colab": {
          "base_uri": "https://localhost:8080/",
          "height": 102
        }
      },
      "cell_type": "code",
      "source": [
        "print(2+2);\n",
        "print(2-4);\n",
        "print(1*9);\n",
        "print(4/2);\n",
        "print(2**3);"
      ],
      "execution_count": 0,
      "outputs": [
        {
          "output_type": "stream",
          "text": [
            "4\n",
            "-2\n",
            "9\n",
            "2.0\n",
            "8\n"
          ],
          "name": "stdout"
        }
      ]
    },
    {
      "metadata": {
        "id": "yRykXJsGIOdQ",
        "colab_type": "text"
      },
      "cell_type": "markdown",
      "source": [
        "#Exercício 3 - Strings\n",
        "\n",
        "Nome\n",
        "<br>\n",
        "Nome + Nome\n",
        "<br>\n",
        "Nome *3\n",
        "<br> \n",
        "Caixa Alta\n",
        "<br>\n",
        "Caixa Baixa\n",
        "<br>\n",
        "Quantidade de Caracteres\n",
        "<br>\n",
        "Converter em String"
      ]
    },
    {
      "metadata": {
        "id": "uKpuEtT5Ikxq",
        "colab_type": "code",
        "outputId": "acef3f70-a55a-4217-d916-d3dfbb339e10",
        "colab": {
          "base_uri": "https://localhost:8080/",
          "height": 136
        }
      },
      "cell_type": "code",
      "source": [
        "print('Mari');\n",
        "print('Mari'+'Mari');\n",
        "print('Mari'*3);\n",
        "print('Mari'.upper());\n",
        "print('Mari'.lower());\n",
        "print(len('Mari'));\n",
        "print(len(str(123412)));"
      ],
      "execution_count": 1,
      "outputs": [
        {
          "output_type": "stream",
          "text": [
            "Mari\n",
            "MariMari\n",
            "MariMariMari\n",
            "MARI\n",
            "mari\n",
            "4\n",
            "6\n"
          ],
          "name": "stdout"
        }
      ]
    },
    {
      "metadata": {
        "id": "Uvq6y2bnWAgK",
        "colab_type": "text"
      },
      "cell_type": "markdown",
      "source": [
        "# Exercício 4 - Variáveis\n",
        "\n",
        "Imprimir variável\n",
        "<br>\n",
        "Imprimir quantidade de caracteres de uma variável\n",
        "<br>\n",
        "Imprimir soma de variáveis\n"
      ]
    },
    {
      "metadata": {
        "id": "zmg1WGUfWOLY",
        "colab_type": "code",
        "colab": {
          "base_uri": "https://localhost:8080/",
          "height": 85
        },
        "outputId": "01a723c3-a113-47ee-f214-8d355c210575"
      },
      "cell_type": "code",
      "source": [
        "nome = \"Mari\";\n",
        "sobrenome = \"Ferroni\";\n",
        "a = 1;\n",
        "b = 2;\n",
        "print(nome);\n",
        "print(len(nome));\n",
        "print(nome+\" \"+sobrenome);\n",
        "print(a+b);"
      ],
      "execution_count": 9,
      "outputs": [
        {
          "output_type": "stream",
          "text": [
            "Mari\n",
            "4\n",
            "Mari Ferroni\n",
            "3\n"
          ],
          "name": "stdout"
        }
      ]
    },
    {
      "metadata": {
        "id": "ivfMoupDXqtO",
        "colab_type": "text"
      },
      "cell_type": "markdown",
      "source": [
        "# Exercício 5 - Listas\n",
        "\n",
        "Imprimir uma lista\n",
        "<br>\n",
        "Imprimir tamanho da lista\n",
        "<br>\n",
        "Ordenar a lista de forma crescente\n",
        "<br>\n",
        "Ordenar a lista de forma decrescente\n",
        "<br>\n",
        "Adicionar item a uma lista\n",
        "<br>\n",
        "Imprimir a posição n de uma lista\n",
        "<br>\n",
        "Apagar item de uma lista"
      ]
    },
    {
      "metadata": {
        "id": "V2MuMqhfXpFh",
        "colab_type": "code",
        "colab": {
          "base_uri": "https://localhost:8080/",
          "height": 153
        },
        "outputId": "4bff8027-afb0-48a1-850f-bd5cbde46d40"
      },
      "cell_type": "code",
      "source": [
        "lotery = [1,4,9302,9,3,233];\n",
        "print(lotery);\n",
        "print(len(lotery));\n",
        "lotery.sort();\n",
        "print(lotery);\n",
        "lotery.reverse();\n",
        "print(lotery);\n",
        "lotery.append(10);\n",
        "print(lotery);\n",
        "print(lotery[0]);\n",
        "print(lotery[6]);\n",
        "lotery.pop(0);\n",
        "print(lotery);"
      ],
      "execution_count": 17,
      "outputs": [
        {
          "output_type": "stream",
          "text": [
            "[1, 4, 9302, 9, 3, 233]\n",
            "6\n",
            "[1, 3, 4, 9, 233, 9302]\n",
            "[9302, 233, 9, 4, 3, 1]\n",
            "[9302, 233, 9, 4, 3, 1, 10]\n",
            "9302\n",
            "10\n",
            "[233, 9, 4, 3, 1, 10]\n"
          ],
          "name": "stdout"
        }
      ]
    },
    {
      "metadata": {
        "id": "Itp_qkBEaKJj",
        "colab_type": "text"
      },
      "cell_type": "markdown",
      "source": [
        "# Exercicio 6 - Dicionários\n",
        "\n",
        "Imprimir um dicionário\n",
        "<br>\n",
        "Imprimir parâmetro do dicionário\n",
        "<br> \n",
        "Imprimir o tamanho do dicionário\n",
        "<br>\n",
        "Remover parâmetro do dicionário"
      ]
    },
    {
      "metadata": {
        "id": "BE73W9WGaSj5",
        "colab_type": "code",
        "colab": {
          "base_uri": "https://localhost:8080/",
          "height": 85
        },
        "outputId": "c34a293f-3e78-4ac2-835c-fc91068990e8"
      },
      "cell_type": "code",
      "source": [
        "participantes = {'nome': 'Mari', 'país': 'Brasil', 'data de nascimento':'10/05/1985'}; \n",
        "print(participantes);\n",
        "print(participantes['nome']);\n",
        "print(len(participantes));\n",
        "participantes.pop('data de nascimento');\n",
        "print(participantes);"
      ],
      "execution_count": 25,
      "outputs": [
        {
          "output_type": "stream",
          "text": [
            "{'nome': 'Mari', 'país': 'Brasil', 'data de nascimento': '10/05/1985'}\n",
            "Mari\n",
            "3\n",
            "{'nome': 'Mari', 'país': 'Brasil'}\n"
          ],
          "name": "stdout"
        }
      ]
    }
  ]
}