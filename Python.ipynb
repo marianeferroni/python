{
  "nbformat": 4,
  "nbformat_minor": 0,
  "metadata": {
    "colab": {
      "name": "Python.ipynb",
      "version": "0.3.2",
      "provenance": [],
      "include_colab_link": true
    },
    "kernelspec": {
      "name": "python3",
      "display_name": "Python 3"
    }
  },
  "cells": [
    {
      "cell_type": "markdown",
      "metadata": {
        "id": "view-in-github",
        "colab_type": "text"
      },
      "source": [
        "<a href=\"https://colab.research.google.com/github/marianeferroni/python/blob/master/Python.ipynb\" target=\"_parent\"><img src=\"https://colab.research.google.com/assets/colab-badge.svg\" alt=\"Open In Colab\"/></a>"
      ]
    },
    {
      "metadata": {
        "id": "gZwybfrC8TDh",
        "colab_type": "text"
      },
      "cell_type": "markdown",
      "source": [
        "Olar!"
      ]
    },
    {
      "metadata": {
        "id": "mI4ZbUlg8I1e",
        "colab_type": "code",
        "colab": {
          "base_uri": "https://localhost:8080/",
          "height": 34
        },
        "outputId": "f4da799a-cc10-4a20-8ec9-58709dbe9849"
      },
      "cell_type": "code",
      "source": [
        "print('Olar')"
      ],
      "execution_count": 1,
      "outputs": [
        {
          "output_type": "stream",
          "text": [
            "Olar\n"
          ],
          "name": "stdout"
        }
      ]
    }
  ]
}