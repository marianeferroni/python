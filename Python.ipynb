{
  "nbformat": 4,
  "nbformat_minor": 0,
  "metadata": {
    "colab": {
      "name": "Python.ipynb",
      "version": "0.3.2",
      "provenance": [],
      "collapsed_sections": [
        "gZwybfrC8TDh",
        "fz87iE9Q_yFP",
        "yRykXJsGIOdQ"
      ],
      "include_colab_link": true
    },
    "kernelspec": {
      "name": "python3",
      "display_name": "Python 3"
    }
  },
  "cells": [
    {
      "cell_type": "markdown",
      "metadata": {
        "id": "view-in-github",
        "colab_type": "text"
      },
      "source": [
        "<a href=\"https://colab.research.google.com/github/marianeferroni/python/blob/master/Python.ipynb\" target=\"_parent\"><img src=\"https://colab.research.google.com/assets/colab-badge.svg\" alt=\"Open In Colab\"/></a>"
      ]
    },
    {
      "metadata": {
        "id": "gZwybfrC8TDh",
        "colab_type": "text"
      },
      "cell_type": "markdown",
      "source": [
        "# Exercício 1 - Hello World\n",
        "Olar!"
      ]
    },
    {
      "metadata": {
        "id": "mI4ZbUlg8I1e",
        "colab_type": "code",
        "outputId": "f4da799a-cc10-4a20-8ec9-58709dbe9849",
        "colab": {
          "base_uri": "https://localhost:8080/",
          "height": 34
        }
      },
      "cell_type": "code",
      "source": [
        "print('Olar')"
      ],
      "execution_count": 0,
      "outputs": [
        {
          "output_type": "stream",
          "text": [
            "Olar\n"
          ],
          "name": "stdout"
        }
      ]
    },
    {
      "metadata": {
        "id": "fz87iE9Q_yFP",
        "colab_type": "text"
      },
      "cell_type": "markdown",
      "source": [
        "#Exercício 2 - Operações Matemáticas\n",
        "\n",
        "Imprimir resultado de: 2+2;\n",
        "<br>\n",
        "Imprimir resultado de: 2-4;\n",
        "<br>\n",
        "Imprimir resultado de: 1*9;\n",
        "<br>\n",
        "Imprimir resultado de: 4/2;\n",
        "<br>\n",
        "Imprimir resultado 2ˆ3 (cálculo exponencial, 2 elevado a 3);"
      ]
    },
    {
      "metadata": {
        "id": "po5yKXMy__XO",
        "colab_type": "code",
        "outputId": "f2a7e529-7c5d-4a99-d97e-a622b7354b9b",
        "colab": {
          "base_uri": "https://localhost:8080/",
          "height": 102
        }
      },
      "cell_type": "code",
      "source": [
        "print(2+2);\n",
        "print(2-4);\n",
        "print(1*9);\n",
        "print(4/2);\n",
        "print(2**3);"
      ],
      "execution_count": 0,
      "outputs": [
        {
          "output_type": "stream",
          "text": [
            "4\n",
            "-2\n",
            "9\n",
            "2.0\n",
            "8\n"
          ],
          "name": "stdout"
        }
      ]
    },
    {
      "metadata": {
        "id": "yRykXJsGIOdQ",
        "colab_type": "text"
      },
      "cell_type": "markdown",
      "source": [
        "#Exercício 3 - Strings\n",
        "\n",
        "Nome\n",
        "<br>\n",
        "Nome + Nome\n",
        "<br>\n",
        "Nome *3\n",
        "<br> \n",
        "Caixa Alta\n",
        "<br>\n",
        "Caixa Baixa\n",
        "<br>\n",
        "Quantidade de Caracteres\n",
        "<br>\n",
        "Converter em String"
      ]
    },
    {
      "metadata": {
        "id": "uKpuEtT5Ikxq",
        "colab_type": "code",
        "outputId": "acef3f70-a55a-4217-d916-d3dfbb339e10",
        "colab": {
          "base_uri": "https://localhost:8080/",
          "height": 136
        }
      },
      "cell_type": "code",
      "source": [
        "print('Mari');\n",
        "print('Mari'+'Mari');\n",
        "print('Mari'*3);\n",
        "print('Mari'.upper());\n",
        "print('Mari'.lower());\n",
        "print(len('Mari'));\n",
        "print(len(str(123412)));"
      ],
      "execution_count": 1,
      "outputs": [
        {
          "output_type": "stream",
          "text": [
            "Mari\n",
            "MariMari\n",
            "MariMariMari\n",
            "MARI\n",
            "mari\n",
            "4\n",
            "6\n"
          ],
          "name": "stdout"
        }
      ]
    },
    {
      "metadata": {
        "id": "Uvq6y2bnWAgK",
        "colab_type": "text"
      },
      "cell_type": "markdown",
      "source": [
        "# Exercício 4 - Variáveis\n",
        "\n",
        "Imprimir variável\n",
        "<br>\n",
        "Imprimir quantidade de caracteres de uma variável\n",
        "<br>\n",
        "Imprimir soma de variáveis\n"
      ]
    },
    {
      "metadata": {
        "id": "zmg1WGUfWOLY",
        "colab_type": "code",
        "colab": {
          "base_uri": "https://localhost:8080/",
          "height": 85
        },
        "outputId": "01a723c3-a113-47ee-f214-8d355c210575"
      },
      "cell_type": "code",
      "source": [
        "nome = \"Mari\";\n",
        "sobrenome = \"Ferroni\";\n",
        "a = 1;\n",
        "b = 2;\n",
        "print(nome);\n",
        "print(len(nome));\n",
        "print(nome+\" \"+sobrenome);\n",
        "print(a+b);"
      ],
      "execution_count": 9,
      "outputs": [
        {
          "output_type": "stream",
          "text": [
            "Mari\n",
            "4\n",
            "Mari Ferroni\n",
            "3\n"
          ],
          "name": "stdout"
        }
      ]
    }
  ]
}